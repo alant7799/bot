{
 "cells": [
  {
   "cell_type": "code",
   "execution_count": 2,
   "id": "579024f7-c6e7-4917-a9ca-1a22e3cf489a",
   "metadata": {
    "tags": []
   },
   "outputs": [],
   "source": [
    "import pandas as pd\n",
    "import json as json\n",
    "import requests\n",
    "#!pip install scrapy\n",
    "import scrapy"
   ]
  },
  {
   "cell_type": "code",
   "execution_count": 4,
   "id": "10c37dde-0872-46ea-aa82-d4e2fbc6229e",
   "metadata": {},
   "outputs": [
    {
     "name": "stdout",
     "output_type": "stream",
     "text": [
      "New Scrapy project 'coto_bot', using template directory 'C:\\Users\\alan1\\AppData\\Local\\Programs\\Python\\Python311\\Lib\\site-packages\\scrapy\\templates\\project', created in:\n",
      "    C:\\Users\\alan1\\Desktop\\Coto_bot\\coto_bot\n",
      "\n",
      "You can start your first spider with:\n",
      "    cd coto_bot\n",
      "    scrapy genspider example example.com\n"
     ]
    }
   ],
   "source": [
    "!scrapy startproject coto_bot"
   ]
  },
  {
   "cell_type": "code",
   "execution_count": null,
   "id": "7815fba1-db24-4378-bbe3-9f57e478707f",
   "metadata": {},
   "outputs": [],
   "source": []
  }
 ],
 "metadata": {
  "kernelspec": {
   "display_name": "Python 3 (ipykernel)",
   "language": "python",
   "name": "python3"
  },
  "language_info": {
   "codemirror_mode": {
    "name": "ipython",
    "version": 3
   },
   "file_extension": ".py",
   "mimetype": "text/x-python",
   "name": "python",
   "nbconvert_exporter": "python",
   "pygments_lexer": "ipython3",
   "version": "3.11.2"
  }
 },
 "nbformat": 4,
 "nbformat_minor": 5
}
